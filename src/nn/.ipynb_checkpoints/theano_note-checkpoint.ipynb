{
 "cells": [
  {
   "cell_type": "code",
   "execution_count": 1,
   "metadata": {
    "collapsed": true
   },
   "outputs": [],
   "source": [
    "import theano\n",
    "\n",
    "import theano.tensor as T\n",
    "\n",
    "A = T.ivector(\"A\")\n",
    "\n",
    "B = T.imatrix(\"B\")"
   ]
  },
  {
   "cell_type": "code",
   "execution_count": 2,
   "metadata": {
    "collapsed": false
   },
   "outputs": [
    {
     "data": {
      "text/plain": [
       "array([[1, 2],\n",
       "       [2, 3]])"
      ]
     },
     "execution_count": 2,
     "metadata": {},
     "output_type": "execute_result"
    }
   ],
   "source": [
    "C = A[B]\n",
    "A_in = [1,2,3]\n",
    "B_in = [[0,1],[1,2]]\n",
    "func = theano.function([A,B],C)\n",
    "func(A_in,B_in)"
   ]
  },
  {
   "cell_type": "code",
   "execution_count": 3,
   "metadata": {
    "collapsed": false
   },
   "outputs": [
    {
     "data": {
      "text/plain": [
       "2"
      ]
     },
     "execution_count": 3,
     "metadata": {},
     "output_type": "execute_result"
    }
   ],
   "source": [
    "D_out=func(A_in,B_in)\n",
    "len(D_out)"
   ]
  },
  {
   "cell_type": "code",
   "execution_count": 6,
   "metadata": {
    "collapsed": false
   },
   "outputs": [
    {
     "data": {
      "text/plain": [
       "array([[[1, 2],\n",
       "        [2, 3]],\n",
       "\n",
       "       [[2, 3],\n",
       "        [3, 4]]])"
      ]
     },
     "execution_count": 6,
     "metadata": {},
     "output_type": "execute_result"
    }
   ],
   "source": [
    "A = T.imatrix(\"A\")\n",
    "B = T.imatrix(\"B\")\n",
    "C = A[B]\n",
    "A_in = [[1,2],[2,3],[3,4]]\n",
    "B_in = [[0,1],[1,2]]\n",
    "func = theano.function([A,B],C)\n",
    "func(A_in,B_in)"
   ]
  },
  {
   "cell_type": "code",
   "execution_count": 6,
   "metadata": {
    "collapsed": false
   },
   "outputs": [
    {
     "name": "stdout",
     "output_type": "stream",
     "text": [
      "[[ 2  6 12]]\n",
      "[[ 4.  8.]]\n"
     ]
    }
   ],
   "source": [
    "import theano\n",
    "import theano.tensor as T\n",
    "B=T.imatrix(\"B\")\n",
    "\n",
    "A=T.imatrix(\"A\")\n",
    "\n",
    "C=A*B\n",
    "\n",
    "func1 = theano.function(inputs=[A,B],outputs=C)\n",
    "\n",
    "D=T.dscalar(\"D\")\n",
    "\n",
    "E=T.imatrix(\"E\")\n",
    "\n",
    "F = D * E\n",
    "\n",
    "func2 = theano.function(inputs=[E,D],outputs=F)\n",
    "print func1([[1,2,3]],[[2,3,4]])\n",
    "print func2([[1,2]],4)\n",
    "\n"
   ]
  },
  {
   "cell_type": "code",
   "execution_count": null,
   "metadata": {
    "collapsed": true
   },
   "outputs": [],
   "source": []
  }
 ],
 "metadata": {
  "anaconda-cloud": {},
  "kernelspec": {
   "display_name": "Python [Root]",
   "language": "python",
   "name": "Python [Root]"
  },
  "language_info": {
   "codemirror_mode": {
    "name": "ipython",
    "version": 2
   },
   "file_extension": ".py",
   "mimetype": "text/x-python",
   "name": "python",
   "nbconvert_exporter": "python",
   "pygments_lexer": "ipython2",
   "version": "2.7.11"
  }
 },
 "nbformat": 4,
 "nbformat_minor": 0
}
