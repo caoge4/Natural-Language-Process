{
 "cells": [
  {
   "cell_type": "code",
   "execution_count": 1,
   "metadata": {
    "collapsed": true
   },
   "outputs": [],
   "source": [
    "import theano\n",
    "\n",
    "import theano.tensor as T\n",
    "\n",
    "A = T.ivector(\"A\")\n",
    "\n",
    "B = T.imatrix(\"B\")"
   ]
  },
  {
   "cell_type": "code",
   "execution_count": 2,
   "metadata": {
    "collapsed": false
   },
   "outputs": [
    {
     "data": {
      "text/plain": [
       "array([[1, 2],\n",
       "       [2, 3]])"
      ]
     },
     "execution_count": 2,
     "metadata": {},
     "output_type": "execute_result"
    }
   ],
   "source": [
    "C = A[B]\n",
    "A_in = [1,2,3]\n",
    "B_in = [[0,1],[1,2]]\n",
    "func = theano.function([A,B],C)\n",
    "func(A_in,B_in)"
   ]
  },
  {
   "cell_type": "code",
   "execution_count": 3,
   "metadata": {
    "collapsed": false
   },
   "outputs": [
    {
     "data": {
      "text/plain": [
       "2"
      ]
     },
     "execution_count": 3,
     "metadata": {},
     "output_type": "execute_result"
    }
   ],
   "source": [
    "D_out=func(A_in,B_in)\n",
    "len(D_out)"
   ]
  },
  {
   "cell_type": "code",
   "execution_count": 6,
   "metadata": {
    "collapsed": false
   },
   "outputs": [
    {
     "data": {
      "text/plain": [
       "array([[[1, 2],\n",
       "        [2, 3]],\n",
       "\n",
       "       [[2, 3],\n",
       "        [3, 4]]])"
      ]
     },
     "execution_count": 6,
     "metadata": {},
     "output_type": "execute_result"
    }
   ],
   "source": [
    "A = T.imatrix(\"A\")\n",
    "B = T.imatrix(\"B\")\n",
    "C = A[B]\n",
    "A_in = [[1,2],[2,3],[3,4]]\n",
    "B_in = [[0,1],[1,2]]\n",
    "func = theano.function([A,B],C)\n",
    "func(A_in,B_in)"
   ]
  },
  {
   "cell_type": "code",
   "execution_count": 6,
   "metadata": {
    "collapsed": false
   },
   "outputs": [
    {
     "name": "stdout",
     "output_type": "stream",
     "text": [
      "[[ 2  6 12]]\n",
      "[[ 4.  8.]]\n"
     ]
    }
   ],
   "source": [
    "import theano\n",
    "import theano.tensor as T\n",
    "B=T.imatrix(\"B\")\n",
    "\n",
    "A=T.imatrix(\"A\")\n",
    "\n",
    "C=A*B\n",
    "\n",
    "func1 = theano.function(inputs=[A,B],outputs=C)\n",
    "\n",
    "D=T.dscalar(\"D\")\n",
    "\n",
    "E=T.imatrix(\"E\")\n",
    "\n",
    "F = D * E\n",
    "\n",
    "func2 = theano.function(inputs=[E,D],outputs=F)\n",
    "print func1([[1,2,3]],[[2,3,4]])\n",
    "print func2([[1,2]],4)\n",
    "\n"
   ]
  },
  {
   "cell_type": "code",
   "execution_count": 8,
   "metadata": {
    "collapsed": false
   },
   "outputs": [
    {
     "name": "stdout",
     "output_type": "stream",
     "text": [
      "[[1 2 3]\n",
      " [2 3 4]]\n"
     ]
    }
   ],
   "source": [
    "import theano\n",
    "import theano.tensor as T\n",
    "B=T.itensor3(\"B\")\n",
    "C = B.sum(0)\n",
    "func1 = theano.function(inputs=[B],outputs=C)\n",
    "print func1([[[1,2,3],[2,3,4]]])\n",
    "A= [[1,2,3],[2,3,4]]\n",
    "\n",
    "#print A[0][2]"
   ]
  },
  {
   "cell_type": "code",
   "execution_count": 18,
   "metadata": {
    "collapsed": false
   },
   "outputs": [
    {
     "name": "stdout",
     "output_type": "stream",
     "text": [
      "[2 3]\n"
     ]
    },
    {
     "data": {
      "text/plain": [
       "(2, 3)"
      ]
     },
     "execution_count": 18,
     "metadata": {},
     "output_type": "execute_result"
    }
   ],
   "source": [
    "import theano\n",
    "import theano.tensor as T\n",
    "import numpy as np \n",
    "B=T.imatrix(\"B\")\n",
    "C = T.shape(B)\n",
    "#C = T.sum(B,0)\n",
    "func1 = theano.function(inputs=[B],outputs=C)\n",
    "print func1([[1,2,3],[2,3,4]])\n",
    "np.shape([[1,2,3],[2,3,4]])"
   ]
  },
  {
   "cell_type": "code",
   "execution_count": 23,
   "metadata": {
    "collapsed": false
   },
   "outputs": [
    {
     "name": "stdout",
     "output_type": "stream",
     "text": [
      "<class 'theano.tensor.var.TensorVariable'>\n"
     ]
    },
    {
     "data": {
      "text/plain": [
       "array([[[ 0.,  0.,  1.],\n",
       "        [ 0.,  0.,  1.]],\n",
       "\n",
       "       [[ 0.,  0.,  1.],\n",
       "        [ 0.,  0.,  1.]]])"
      ]
     },
     "execution_count": 23,
     "metadata": {},
     "output_type": "execute_result"
    }
   ],
   "source": [
    "import theano\n",
    "import theano.tensor as T\n",
    "import numpy as np \n",
    "B=T.imatrix(\"B\")\n",
    "A=theano.tensor.identity_like(np.eye(3))\n",
    "C=A[B]\n",
    "print type(A)\n",
    "func1 = theano.function(inputs=[B],outputs=C,on_unused_input='ignore')\n",
    "func1([[2,2],[2,2]])"
   ]
  },
  {
   "cell_type": "code",
   "execution_count": 45,
   "metadata": {
    "collapsed": false
   },
   "outputs": [
    {
     "data": {
      "text/plain": [
       "array([1, 2, 1, 2, 3, 1])"
      ]
     },
     "execution_count": 45,
     "metadata": {},
     "output_type": "execute_result"
    }
   ],
   "source": [
    "import theano\n",
    "import theano.tensor as T\n",
    "import numpy as np \n",
    "B=T.imatrix(\"B\")\n",
    "A=T.imatrix(\"A\")\n",
    "D=T.extra_ops.compress(A>0,A)\n",
    "C = B.repeat(5,axis=1)\n",
    "func1 = theano.function(inputs=[B],outputs=C,on_unused_input='ignore')\n",
    "func2 = theano.function(inputs=[A],outputs=D,on_unused_input='ignore')\n",
    "func2([[0,0,1,2],[1,2,3,1]])\n",
    "#print (func1([[1,2]]))\n",
    "#T.extra_ops.compress(A>0,A)"
   ]
  },
  {
   "cell_type": "code",
   "execution_count": 49,
   "metadata": {
    "collapsed": false
   },
   "outputs": [
    {
     "name": "stdout",
     "output_type": "stream",
     "text": [
      "[[0 1 1]\n",
      " [1 0 1]\n",
      " [1 1 0]]\n"
     ]
    }
   ],
   "source": [
    "import theano\n",
    "import theano.tensor as T\n",
    "import numpy as np \n",
    "B=T.imatrix(\"B\")\n",
    "A= T.neq(B,1)\n",
    "func1 = theano.function(inputs=[B],outputs=A,on_unused_input='ignore')\n",
    "print func1(np.eye(3,dtype=\"int32\"))"
   ]
  },
  {
   "cell_type": "code",
   "execution_count": null,
   "metadata": {
    "collapsed": true
   },
   "outputs": [],
   "source": []
  }
 ],
 "metadata": {
  "anaconda-cloud": {},
  "kernelspec": {
   "display_name": "Python [Root]",
   "language": "python",
   "name": "Python [Root]"
  },
  "language_info": {
   "codemirror_mode": {
    "name": "ipython",
    "version": 2
   },
   "file_extension": ".py",
   "mimetype": "text/x-python",
   "name": "python",
   "nbconvert_exporter": "python",
   "pygments_lexer": "ipython2",
   "version": "2.7.11"
  }
 },
 "nbformat": 4,
 "nbformat_minor": 0
}
